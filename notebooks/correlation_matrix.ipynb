{
 "cells": [
  {
   "cell_type": "markdown",
   "metadata": {},
   "source": [
    "TODO:\n",
    "add J17, J27"
   ]
  },
  {
   "cell_type": "code",
   "execution_count": 1,
   "metadata": {},
   "outputs": [],
   "source": [
    "import pandas as pd\n",
    "import os\n",
    "import nwis_pull as nwis\n",
    "from pandas.plotting import scatter_matrix\n",
    "import matplotlib.pyplot as plt"
   ]
  },
  {
   "cell_type": "code",
   "execution_count": 2,
   "metadata": {},
   "outputs": [],
   "source": [
    "start_date = '2010-01-01'"
   ]
  },
  {
   "cell_type": "markdown",
   "metadata": {},
   "source": [
    "TODO: parallel - grab data sources from NWIS"
   ]
  },
  {
   "cell_type": "code",
   "execution_count": 3,
   "metadata": {
    "scrolled": true
   },
   "outputs": [],
   "source": [
    "# siteid  =  '08169000'\n",
    "# station_nm = 'Comal Rv at New Braunfels, TX'\n",
    "# param_code = '00060'\n",
    "# df = nwis.pull_data.realtime(siteid, start_date=start_date, end_date='2018-10-18', param_code=param_code)\n",
    "# df['Comal River'] = df[param_code]\n",
    "# del df[param_code]"
   ]
  },
  {
   "cell_type": "code",
   "execution_count": 4,
   "metadata": {},
   "outputs": [],
   "source": [
    "# siteid2 = '08168932'\n",
    "# station_nm2 = 'Comal Rv (nc) nr Landa Lk, New Braunfels, TX'\n",
    "# df2 = nwis.pull_data.realtime(siteid2, start_date=start_date, end_date='2018-10-18', param_code=param_code)\n",
    "# df2['Comal Rv (nc)'] = df2[param_code]\n",
    "# del df2[param_code]"
   ]
  },
  {
   "cell_type": "code",
   "execution_count": 5,
   "metadata": {},
   "outputs": [],
   "source": [
    "# siteid3 = '08168913'\n",
    "# station_nm3 = 'Comal Rv (oc) nr Landa Lk, New Braunfels, TX'\n",
    "# df3 = nwis.pull_data.realtime(siteid3, start_date=start_date, end_date='2018-10-18', param_code=param_code)\n",
    "# df3['Comal Rv (oc)'] = df3[param_code]\n",
    "# del df3[param_code]"
   ]
  },
  {
   "cell_type": "code",
   "execution_count": 6,
   "metadata": {},
   "outputs": [],
   "source": [
    "# df.to_csv(os.path.join('..', 'data', 'USGS_streamgage', '08169000_ComalRv.csv'))\n",
    "# df2.to_csv(os.path.join('..', 'data', 'USGS_streamgage', '08168932_ComalRvnc.csv'))\n",
    "# df3.to_csv(os.path.join('..', 'data', 'USGS_streamgage', '08168913_ComalRvoc.csv'))"
   ]
  },
  {
   "cell_type": "code",
   "execution_count": 7,
   "metadata": {},
   "outputs": [],
   "source": [
    "comalRv   = pd.read_csv(os.path.join('..', 'data', 'USGS_streamgage', '08169000_ComalRv.csv'))\n",
    "comalRvnc = pd.read_csv(os.path.join('..', 'data', 'USGS_streamgage', '08168932_ComalRvnc.csv'))\n",
    "comalRvoc = pd.read_csv(os.path.join('..', 'data', 'USGS_streamgage', '08168913_ComalRvoc.csv'))\n",
    "\n",
    "comalRv.set_index(pd.to_datetime(comalRv['datetime']), inplace=True)\n",
    "comalRvnc.set_index(pd.to_datetime(comalRvnc['datetime']), inplace=True)\n",
    "comalRvoc.set_index(pd.to_datetime(comalRvoc['datetime']), inplace=True)"
   ]
  },
  {
   "cell_type": "code",
   "execution_count": 8,
   "metadata": {},
   "outputs": [],
   "source": [
    "# df = df.merge(df2, left_index=True, right_index=True)\n",
    "# df = df.merge(df3, left_index=True, right_index=True)\n",
    "# print(df.head())"
   ]
  },
  {
   "cell_type": "code",
   "execution_count": 9,
   "metadata": {},
   "outputs": [],
   "source": [
    "df_main = comalRv.merge(comalRvnc, left_index=True, right_index=True)\n",
    "df_main = df_main.merge(comalRvoc, left_index=True, right_index=True)\n",
    "df_main.to_csv(os.path.join(\"..\", \"data\", \"USGS_streamgage\", \"main_ComalRvs.csv\"))\n"
   ]
  },
  {
   "cell_type": "code",
   "execution_count": 16,
   "metadata": {},
   "outputs": [
    {
     "data": {
      "text/html": [
       "<div>\n",
       "<style scoped>\n",
       "    .dataframe tbody tr th:only-of-type {\n",
       "        vertical-align: middle;\n",
       "    }\n",
       "\n",
       "    .dataframe tbody tr th {\n",
       "        vertical-align: top;\n",
       "    }\n",
       "\n",
       "    .dataframe thead th {\n",
       "        text-align: right;\n",
       "    }\n",
       "</style>\n",
       "<table border=\"1\" class=\"dataframe\">\n",
       "  <thead>\n",
       "    <tr style=\"text-align: right;\">\n",
       "      <th></th>\n",
       "      <th>Comal River</th>\n",
       "      <th>Comal Rv (nc)</th>\n",
       "      <th>datetime</th>\n",
       "      <th>Comal Rv (oc)</th>\n",
       "      <th>MaxLevel</th>\n",
       "    </tr>\n",
       "    <tr>\n",
       "      <th>datetime</th>\n",
       "      <th></th>\n",
       "      <th></th>\n",
       "      <th></th>\n",
       "      <th></th>\n",
       "      <th></th>\n",
       "    </tr>\n",
       "  </thead>\n",
       "  <tbody>\n",
       "    <tr>\n",
       "      <th>2014-05-06 00:00:00</th>\n",
       "      <td>116.0</td>\n",
       "      <td>61.9</td>\n",
       "      <td>2014-05-06 00:00:00</td>\n",
       "      <td>50.7</td>\n",
       "      <td>632.095</td>\n",
       "    </tr>\n",
       "    <tr>\n",
       "      <th>2014-05-06 00:15:00</th>\n",
       "      <td>118.0</td>\n",
       "      <td>61.9</td>\n",
       "      <td>2014-05-06 00:15:00</td>\n",
       "      <td>50.7</td>\n",
       "      <td>632.095</td>\n",
       "    </tr>\n",
       "    <tr>\n",
       "      <th>2014-05-06 00:30:00</th>\n",
       "      <td>116.0</td>\n",
       "      <td>61.9</td>\n",
       "      <td>2014-05-06 00:30:00</td>\n",
       "      <td>50.7</td>\n",
       "      <td>632.095</td>\n",
       "    </tr>\n",
       "    <tr>\n",
       "      <th>2014-05-06 00:45:00</th>\n",
       "      <td>118.0</td>\n",
       "      <td>61.9</td>\n",
       "      <td>2014-05-06 00:45:00</td>\n",
       "      <td>50.7</td>\n",
       "      <td>632.095</td>\n",
       "    </tr>\n",
       "    <tr>\n",
       "      <th>2014-05-06 01:00:00</th>\n",
       "      <td>120.0</td>\n",
       "      <td>61.9</td>\n",
       "      <td>2014-05-06 01:00:00</td>\n",
       "      <td>50.7</td>\n",
       "      <td>632.095</td>\n",
       "    </tr>\n",
       "  </tbody>\n",
       "</table>\n",
       "</div>"
      ],
      "text/plain": [
       "                     Comal River  Comal Rv (nc)             datetime  \\\n",
       "datetime                                                               \n",
       "2014-05-06 00:00:00        116.0           61.9  2014-05-06 00:00:00   \n",
       "2014-05-06 00:15:00        118.0           61.9  2014-05-06 00:15:00   \n",
       "2014-05-06 00:30:00        116.0           61.9  2014-05-06 00:30:00   \n",
       "2014-05-06 00:45:00        118.0           61.9  2014-05-06 00:45:00   \n",
       "2014-05-06 01:00:00        120.0           61.9  2014-05-06 01:00:00   \n",
       "\n",
       "                     Comal Rv (oc)  MaxLevel  \n",
       "datetime                                      \n",
       "2014-05-06 00:00:00           50.7   632.095  \n",
       "2014-05-06 00:15:00           50.7   632.095  \n",
       "2014-05-06 00:30:00           50.7   632.095  \n",
       "2014-05-06 00:45:00           50.7   632.095  \n",
       "2014-05-06 01:00:00           50.7   632.095  "
      ]
     },
     "execution_count": 16,
     "metadata": {},
     "output_type": "execute_result"
    }
   ],
   "source": [
    "j17 = pd.read_csv(os.path.join('..', 'data', 'j17.csv'))\n",
    "j17['datetime'] = pd.to_datetime(j17['pdate'])\n",
    "del j17['pdate']\n",
    "j17 = j17.loc[j17['datetime'] > pd.to_datetime(\"05/05/2014\")]\n",
    "j17.index = j17['datetime']\n",
    "j17 = j17[['MaxLevel']]\n",
    "j17.to_csv(os.path.join(\"..\", \"data\", \"dailyDateRange_j17.csv\"))\n",
    "j17 = pd.DataFrame(j17.resample('15 min').ffill())\n",
    "j17.to_csv(os.path.join(\"..\", \"data\", \"15mindateRange_j17.csv\"))\n",
    "\n",
    "df_main.head()"
   ]
  },
  {
   "cell_type": "code",
   "execution_count": 17,
   "metadata": {},
   "outputs": [],
   "source": [
    "j27 = pd.read_csv(os.path.join('..', 'data', 'j27.csv'))\n",
    "j27['datetime'] = pd.to_datetime(j27['pdate'])\n",
    "del j27['pdate']\n",
    "j27 = j27.loc[j27['datetime'] > pd.to_datetime(\"05/05/2014\")]\n",
    "j27.index = j27['datetime']\n",
    "j27 = j27[['MaxLevel']]\n",
    "j27.to_csv(os.path.join(\"..\", \"data\", \"dailydateRange_j27.csv\"))\n",
    "j27 = pd.DataFrame(j27.resample('15 min').ffill())\n",
    "j27.to_csv(os.path.join(\"..\", \"data\", \"15mindateRange_j27.csv\"))"
   ]
  },
  {
   "cell_type": "code",
   "execution_count": 12,
   "metadata": {},
   "outputs": [
    {
     "name": "stdout",
     "output_type": "stream",
     "text": [
      "                              datetime_x  Comal River  Unnamed: 0_x  \\\n",
      "datetime                                                              \n",
      "2014-05-06 00:00:00  2014-05-06 00:00:00        116.0           188   \n",
      "2014-05-06 00:15:00  2014-05-06 00:15:00        118.0           189   \n",
      "2014-05-06 00:30:00  2014-05-06 00:30:00        116.0           190   \n",
      "2014-05-06 00:45:00  2014-05-06 00:45:00        118.0           191   \n",
      "2014-05-06 01:00:00  2014-05-06 01:00:00        120.0           192   \n",
      "\n",
      "                              datetime_y  Comal Rv (nc)  Unnamed: 0_y  \\\n",
      "datetime                                                                \n",
      "2014-05-06 00:00:00  2014-05-06 00:00:00           61.9         77704   \n",
      "2014-05-06 00:15:00  2014-05-06 00:15:00           61.9         77705   \n",
      "2014-05-06 00:30:00  2014-05-06 00:30:00           61.9         77706   \n",
      "2014-05-06 00:45:00  2014-05-06 00:45:00           61.9         77707   \n",
      "2014-05-06 01:00:00  2014-05-06 01:00:00           61.9         77708   \n",
      "\n",
      "                                datetime  Comal Rv (oc)  MaxLevel  \n",
      "datetime                                                           \n",
      "2014-05-06 00:00:00  2014-05-06 00:00:00           50.7   632.095  \n",
      "2014-05-06 00:15:00  2014-05-06 00:15:00           50.7   632.095  \n",
      "2014-05-06 00:30:00  2014-05-06 00:30:00           50.7   632.095  \n",
      "2014-05-06 00:45:00  2014-05-06 00:45:00           50.7   632.095  \n",
      "2014-05-06 01:00:00  2014-05-06 01:00:00           50.7   632.095  \n"
     ]
    }
   ],
   "source": [
    "df_main = df_main.merge(j17, right_index=True, left_index=True)\n",
    "print(df_main.head())"
   ]
  },
  {
   "cell_type": "code",
   "execution_count": 15,
   "metadata": {},
   "outputs": [
    {
     "name": "stdout",
     "output_type": "stream",
     "text": [
      "                     Comal River  Comal Rv (nc)             datetime  \\\n",
      "datetime                                                               \n",
      "2014-05-06 00:00:00        116.0           61.9  2014-05-06 00:00:00   \n",
      "2014-05-06 00:15:00        118.0           61.9  2014-05-06 00:15:00   \n",
      "2014-05-06 00:30:00        116.0           61.9  2014-05-06 00:30:00   \n",
      "2014-05-06 00:45:00        118.0           61.9  2014-05-06 00:45:00   \n",
      "2014-05-06 01:00:00        120.0           61.9  2014-05-06 01:00:00   \n",
      "\n",
      "                     Comal Rv (oc)  MaxLevel  \n",
      "datetime                                      \n",
      "2014-05-06 00:00:00           50.7   632.095  \n",
      "2014-05-06 00:15:00           50.7   632.095  \n",
      "2014-05-06 00:30:00           50.7   632.095  \n",
      "2014-05-06 00:45:00           50.7   632.095  \n",
      "2014-05-06 01:00:00           50.7   632.095  \n"
     ]
    }
   ],
   "source": [
    "cols_list = [\"Unnamed: 0_x\", \"Unnamed: 0_y\", \"datetime_x\", \"datetime_y\", \"MaxLevel_x\", \"MaxLevel_y\"]\n",
    "columns = df_main.columns\n",
    "for col in columns:\n",
    "    if col in cols_list:\n",
    "        del df_main[col]\n",
    "\n",
    "print(df_main.head())"
   ]
  },
  {
   "cell_type": "code",
   "execution_count": null,
   "metadata": {},
   "outputs": [],
   "source": [
    "corr = df_main.corr()\n",
    "print(corr)"
   ]
  },
  {
   "cell_type": "code",
   "execution_count": null,
   "metadata": {},
   "outputs": [],
   "source": [
    "scatter_matrix(df_main, alpha=.01)\n",
    "# plt.tight_layout()\n",
    "plt.savefig(os.path.join('..', 'img', 'corr_plt.png'))"
   ]
  },
  {
   "cell_type": "code",
   "execution_count": null,
   "metadata": {},
   "outputs": [],
   "source": []
  }
 ],
 "metadata": {
  "kernelspec": {
   "display_name": "Python 3",
   "language": "python",
   "name": "python3"
  },
  "language_info": {
   "codemirror_mode": {
    "name": "ipython",
    "version": 3
   },
   "file_extension": ".py",
   "mimetype": "text/x-python",
   "name": "python",
   "nbconvert_exporter": "python",
   "pygments_lexer": "ipython3",
   "version": "3.6.6"
  }
 },
 "nbformat": 4,
 "nbformat_minor": 2
}
