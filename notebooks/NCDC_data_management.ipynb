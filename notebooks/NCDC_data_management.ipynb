{
 "cells": [
  {
   "cell_type": "code",
   "execution_count": 2,
   "metadata": {},
   "outputs": [],
   "source": [
    "import pandas as pd\n",
    "import os\n",
    "import numpy as np"
   ]
  },
  {
   "cell_type": "code",
   "execution_count": 22,
   "metadata": {},
   "outputs": [
    {
     "data": {
      "text/html": [
       "<div>\n",
       "<style scoped>\n",
       "    .dataframe tbody tr th:only-of-type {\n",
       "        vertical-align: middle;\n",
       "    }\n",
       "\n",
       "    .dataframe tbody tr th {\n",
       "        vertical-align: top;\n",
       "    }\n",
       "\n",
       "    .dataframe thead th {\n",
       "        text-align: right;\n",
       "    }\n",
       "</style>\n",
       "<table border=\"1\" class=\"dataframe\">\n",
       "  <thead>\n",
       "    <tr style=\"text-align: right;\">\n",
       "      <th></th>\n",
       "      <th>STATION</th>\n",
       "      <th>NAME</th>\n",
       "      <th>LATITUDE</th>\n",
       "      <th>LONGITUDE</th>\n",
       "      <th>ELEVATION</th>\n",
       "      <th>DATE</th>\n",
       "      <th>PRCP</th>\n",
       "      <th>TMAX</th>\n",
       "      <th>TMIN</th>\n",
       "      <th>TOBS</th>\n",
       "    </tr>\n",
       "  </thead>\n",
       "  <tbody>\n",
       "    <tr>\n",
       "      <th>0</th>\n",
       "      <td>USC00415018</td>\n",
       "      <td>LAMPASAS, TX US</td>\n",
       "      <td>31.0717</td>\n",
       "      <td>-98.1847</td>\n",
       "      <td>314.6</td>\n",
       "      <td>1930-01-01</td>\n",
       "      <td>0.00</td>\n",
       "      <td>68.0</td>\n",
       "      <td>45.0</td>\n",
       "      <td>NaN</td>\n",
       "    </tr>\n",
       "    <tr>\n",
       "      <th>1</th>\n",
       "      <td>USC00415018</td>\n",
       "      <td>LAMPASAS, TX US</td>\n",
       "      <td>31.0717</td>\n",
       "      <td>-98.1847</td>\n",
       "      <td>314.6</td>\n",
       "      <td>1930-01-02</td>\n",
       "      <td>0.01</td>\n",
       "      <td>65.0</td>\n",
       "      <td>32.0</td>\n",
       "      <td>NaN</td>\n",
       "    </tr>\n",
       "    <tr>\n",
       "      <th>2</th>\n",
       "      <td>USC00415018</td>\n",
       "      <td>LAMPASAS, TX US</td>\n",
       "      <td>31.0717</td>\n",
       "      <td>-98.1847</td>\n",
       "      <td>314.6</td>\n",
       "      <td>1930-01-03</td>\n",
       "      <td>0.00</td>\n",
       "      <td>56.0</td>\n",
       "      <td>30.0</td>\n",
       "      <td>NaN</td>\n",
       "    </tr>\n",
       "    <tr>\n",
       "      <th>3</th>\n",
       "      <td>USC00415018</td>\n",
       "      <td>LAMPASAS, TX US</td>\n",
       "      <td>31.0717</td>\n",
       "      <td>-98.1847</td>\n",
       "      <td>314.6</td>\n",
       "      <td>1930-01-04</td>\n",
       "      <td>0.00</td>\n",
       "      <td>61.0</td>\n",
       "      <td>21.0</td>\n",
       "      <td>NaN</td>\n",
       "    </tr>\n",
       "    <tr>\n",
       "      <th>4</th>\n",
       "      <td>USC00415018</td>\n",
       "      <td>LAMPASAS, TX US</td>\n",
       "      <td>31.0717</td>\n",
       "      <td>-98.1847</td>\n",
       "      <td>314.6</td>\n",
       "      <td>1930-01-05</td>\n",
       "      <td>0.00</td>\n",
       "      <td>64.0</td>\n",
       "      <td>22.0</td>\n",
       "      <td>NaN</td>\n",
       "    </tr>\n",
       "  </tbody>\n",
       "</table>\n",
       "</div>"
      ],
      "text/plain": [
       "       STATION             NAME  LATITUDE  LONGITUDE  ELEVATION        DATE  \\\n",
       "0  USC00415018  LAMPASAS, TX US   31.0717   -98.1847      314.6  1930-01-01   \n",
       "1  USC00415018  LAMPASAS, TX US   31.0717   -98.1847      314.6  1930-01-02   \n",
       "2  USC00415018  LAMPASAS, TX US   31.0717   -98.1847      314.6  1930-01-03   \n",
       "3  USC00415018  LAMPASAS, TX US   31.0717   -98.1847      314.6  1930-01-04   \n",
       "4  USC00415018  LAMPASAS, TX US   31.0717   -98.1847      314.6  1930-01-05   \n",
       "\n",
       "   PRCP  TMAX  TMIN  TOBS  \n",
       "0  0.00  68.0  45.0   NaN  \n",
       "1  0.01  65.0  32.0   NaN  \n",
       "2  0.00  56.0  30.0   NaN  \n",
       "3  0.00  61.0  21.0   NaN  \n",
       "4  0.00  64.0  22.0   NaN  "
      ]
     },
     "execution_count": 22,
     "metadata": {},
     "output_type": "execute_result"
    }
   ],
   "source": [
    "df = pd.read_csv(os.path.join(\"..\", \"data\", \"precip\", \"NCDC\", \"1532091.csv\"))\n",
    "df.head()"
   ]
  },
  {
   "cell_type": "code",
   "execution_count": 23,
   "metadata": {},
   "outputs": [
    {
     "data": {
      "text/plain": [
       "array(['USC00415018', 'USC00419099', 'USC00419504', 'USC00410738',\n",
       "       'USC00411250', 'USC00411580', 'USC00416367', 'USC00411990',\n",
       "       'USC00418531'], dtype=object)"
      ]
     },
     "execution_count": 23,
     "metadata": {},
     "output_type": "execute_result"
    }
   ],
   "source": [
    "stations = df['STATION'].unique()\n",
    "stations\n"
   ]
  },
  {
   "cell_type": "code",
   "execution_count": 24,
   "metadata": {},
   "outputs": [],
   "source": [
    "for station in stations:\n",
    "    tempdf = df.loc[df['STATION'] == station]\n",
    "    tempdf.to_csv(os.path.join(\"..\", \"data\", \"precip\", \"NCDC\", \"output_stations\", f\"{station}.csv\" ))"
   ]
  },
  {
   "cell_type": "code",
   "execution_count": null,
   "metadata": {},
   "outputs": [],
   "source": []
  }
 ],
 "metadata": {
  "kernelspec": {
   "display_name": "Python 3",
   "language": "python",
   "name": "python3"
  },
  "language_info": {
   "codemirror_mode": {
    "name": "ipython",
    "version": 3
   },
   "file_extension": ".py",
   "mimetype": "text/x-python",
   "name": "python",
   "nbconvert_exporter": "python",
   "pygments_lexer": "ipython3",
   "version": "3.7.0"
  }
 },
 "nbformat": 4,
 "nbformat_minor": 2
}
