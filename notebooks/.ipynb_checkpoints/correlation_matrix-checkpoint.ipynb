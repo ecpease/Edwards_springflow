{
 "cells": [
  {
   "cell_type": "markdown",
   "metadata": {},
   "source": [
    "# Merge Dataframes, Create Correlation Matrix"
   ]
  },
  {
   "cell_type": "code",
   "execution_count": 1,
   "metadata": {},
   "outputs": [],
   "source": [
    "import pandas as pd\n",
    "import os\n",
    "import nwis_pull as nwis\n",
    "from pandas.plotting import scatter_matrix\n",
    "import matplotlib.pyplot as plt"
   ]
  },
  {
   "cell_type": "markdown",
   "metadata": {},
   "source": [
    "# Download USGS Data and Save to CSV if needed"
   ]
  },
  {
   "cell_type": "code",
   "execution_count": 2,
   "metadata": {
    "scrolled": true
   },
   "outputs": [],
   "source": [
    "# start_date = '2010-01-01'\n",
    "\n",
    "# siteid  =  '08169000'\n",
    "# station_nm = 'Comal Rv at New Braunfels, TX'\n",
    "# param_code = '00060'\n",
    "# df = nwis.pull_data.realtime(siteid, start_date=start_date, end_date='2018-10-18', param_code=param_code)\n",
    "# df['Comal River'] = df[param_code]\n",
    "# del df[param_code]\n",
    "\n",
    "# siteid2 = '08168932'\n",
    "# station_nm2 = 'Comal Rv (nc) nr Landa Lk, New Braunfels, TX'\n",
    "# df2 = nwis.pull_data.realtime(siteid2, start_date=start_date, end_date='2018-10-18', param_code=param_code)\n",
    "# df2['Comal Rv (nc)'] = df2[param_code]\n",
    "# del df2[param_code]\n",
    "\n",
    "# siteid3 = '08168913'\n",
    "# station_nm3 = 'Comal Rv (oc) nr Landa Lk, New Braunfels, TX'\n",
    "# df3 = nwis.pull_data.realtime(siteid3, start_date=start_date, end_date='2018-10-18', param_code=param_code)\n",
    "# df3['Comal Rv (oc)'] = df3[param_code]\n",
    "# del df3[param_code]\n",
    "\n",
    "# df.to_csv(os.path.join('..', 'data', 'USGS_streamgage', '08169000_ComalRv.csv'))\n",
    "# df2.to_csv(os.path.join('..', 'data', 'USGS_streamgage', '08168932_ComalRvnc.csv'))\n",
    "# df3.to_csv(os.path.join('..', 'data', 'USGS_streamgage', '08168913_ComalRvoc.csv'))"
   ]
  },
  {
   "cell_type": "markdown",
   "metadata": {},
   "source": [
    "# Read in csvs"
   ]
  },
  {
   "cell_type": "code",
   "execution_count": 3,
   "metadata": {},
   "outputs": [],
   "source": [
    "comalRv   = pd.read_csv(os.path.join('..', 'data', 'streamflow', '08169000_ComalRv.csv'))\n",
    "comalRvnc = pd.read_csv(os.path.join('..', 'data', 'streamflow', '08168932_ComalRvnc.csv'))\n",
    "comalRvoc = pd.read_csv(os.path.join('..', 'data', 'streamflow', '08168913_ComalRvoc.csv'))\n",
    "comalSpgs = pd.read_csv(os.path.join('..', 'data', 'springflow', 'comal_spgs.csv'))\n",
    "comalSpgs = comalSpgs[['datetime', 'springflow']]\n",
    "\n",
    "comalRv.set_index(pd.to_datetime(comalRv['datetime']), inplace=True)\n",
    "comalRvnc.set_index(pd.to_datetime(comalRvnc['datetime']), inplace=True)\n",
    "comalRvoc.set_index(pd.to_datetime(comalRvoc['datetime']), inplace=True)\n",
    "comalSpgs.set_index(pd.to_datetime(comalSpgs['datetime']), inplace=True)"
   ]
  },
  {
   "cell_type": "markdown",
   "metadata": {},
   "source": [
    "# Read in Well Data from EAA (J17 and J27)"
   ]
  },
  {
   "cell_type": "code",
   "execution_count": 4,
   "metadata": {},
   "outputs": [],
   "source": [
    "j17 = pd.read_csv(os.path.join('..', 'data', \"well_level\", 'j17.csv'))\n",
    "j17['datetime'] = pd.to_datetime(j17['pdate'])\n",
    "del j17['pdate']\n",
    "j17 = j17.loc[j17['datetime'] > pd.to_datetime(\"05/05/2014\")]\n",
    "j17.index = j17['datetime']\n",
    "j17 = j17[['MaxLevel']]\n",
    "j17['MaxLevel_J17'] = j17[['MaxLevel']]\n",
    "j17.to_csv(os.path.join(\"..\", \"data\", \"well_level\", \"dailyDateRange_j17.csv\"))"
   ]
  },
  {
   "cell_type": "code",
   "execution_count": 5,
   "metadata": {},
   "outputs": [],
   "source": [
    "j27 = pd.read_csv(os.path.join('..', 'data', \"well_level\", 'j27.csv'))\n",
    "j27['datetime'] = pd.to_datetime(j27['pdate'])\n",
    "del j27['pdate']\n",
    "j27 = j27.loc[j27['datetime'] > pd.to_datetime(\"05/05/2014\")]\n",
    "j27.index = j27['datetime']\n",
    "j27 = j27[['MaxLevel']]\n",
    "j27['MaxLevel_J27'] = j27[['MaxLevel']]\n",
    "j27.to_csv(os.path.join(\"..\", \"data\", \"well_level\", \"dailydateRange_j27.csv\"))"
   ]
  },
  {
   "cell_type": "markdown",
   "metadata": {},
   "source": [
    "# Merge all data"
   ]
  },
  {
   "cell_type": "code",
   "execution_count": 11,
   "metadata": {},
   "outputs": [
    {
     "data": {
      "text/html": [
       "<div>\n",
       "<style scoped>\n",
       "    .dataframe tbody tr th:only-of-type {\n",
       "        vertical-align: middle;\n",
       "    }\n",
       "\n",
       "    .dataframe tbody tr th {\n",
       "        vertical-align: top;\n",
       "    }\n",
       "\n",
       "    .dataframe thead th {\n",
       "        text-align: right;\n",
       "    }\n",
       "</style>\n",
       "<table border=\"1\" class=\"dataframe\">\n",
       "  <thead>\n",
       "    <tr style=\"text-align: right;\">\n",
       "      <th></th>\n",
       "      <th>datetime_x</th>\n",
       "      <th>Comal River</th>\n",
       "      <th>Unnamed: 0_x</th>\n",
       "      <th>datetime_y</th>\n",
       "      <th>Comal Rv (nc)</th>\n",
       "      <th>Unnamed: 0_y</th>\n",
       "      <th>datetime_x</th>\n",
       "      <th>Comal Rv (oc)</th>\n",
       "      <th>datetime_y</th>\n",
       "      <th>springflow</th>\n",
       "      <th>MaxLevel_x</th>\n",
       "      <th>MaxLevel_J17</th>\n",
       "      <th>MaxLevel_y</th>\n",
       "      <th>MaxLevel_J27</th>\n",
       "    </tr>\n",
       "    <tr>\n",
       "      <th>datetime</th>\n",
       "      <th></th>\n",
       "      <th></th>\n",
       "      <th></th>\n",
       "      <th></th>\n",
       "      <th></th>\n",
       "      <th></th>\n",
       "      <th></th>\n",
       "      <th></th>\n",
       "      <th></th>\n",
       "      <th></th>\n",
       "      <th></th>\n",
       "      <th></th>\n",
       "      <th></th>\n",
       "      <th></th>\n",
       "    </tr>\n",
       "  </thead>\n",
       "  <tbody>\n",
       "    <tr>\n",
       "      <th>2014-05-06</th>\n",
       "      <td>2014-05-06 00:00:00</td>\n",
       "      <td>116.0</td>\n",
       "      <td>188</td>\n",
       "      <td>2014-05-06 00:00:00</td>\n",
       "      <td>61.9</td>\n",
       "      <td>77704</td>\n",
       "      <td>2014-05-06 00:00:00</td>\n",
       "      <td>50.7</td>\n",
       "      <td>5/6/14</td>\n",
       "      <td>118.0</td>\n",
       "      <td>632.095</td>\n",
       "      <td>632.095</td>\n",
       "      <td>830.749</td>\n",
       "      <td>830.749</td>\n",
       "    </tr>\n",
       "    <tr>\n",
       "      <th>2014-05-07</th>\n",
       "      <td>2014-05-07 00:00:00</td>\n",
       "      <td>116.0</td>\n",
       "      <td>284</td>\n",
       "      <td>2014-05-07 00:00:00</td>\n",
       "      <td>54.1</td>\n",
       "      <td>77800</td>\n",
       "      <td>2014-05-07 00:00:00</td>\n",
       "      <td>50.1</td>\n",
       "      <td>5/7/14</td>\n",
       "      <td>116.0</td>\n",
       "      <td>631.673</td>\n",
       "      <td>631.673</td>\n",
       "      <td>830.637</td>\n",
       "      <td>830.637</td>\n",
       "    </tr>\n",
       "    <tr>\n",
       "      <th>2014-05-08</th>\n",
       "      <td>2014-05-08 00:00:00</td>\n",
       "      <td>113.0</td>\n",
       "      <td>380</td>\n",
       "      <td>2014-05-08 00:00:00</td>\n",
       "      <td>52.2</td>\n",
       "      <td>77896</td>\n",
       "      <td>2014-05-08 00:00:00</td>\n",
       "      <td>51.3</td>\n",
       "      <td>5/8/14</td>\n",
       "      <td>115.0</td>\n",
       "      <td>631.839</td>\n",
       "      <td>631.839</td>\n",
       "      <td>830.498</td>\n",
       "      <td>830.498</td>\n",
       "    </tr>\n",
       "    <tr>\n",
       "      <th>2014-05-09</th>\n",
       "      <td>2014-05-09 00:00:00</td>\n",
       "      <td>118.0</td>\n",
       "      <td>476</td>\n",
       "      <td>2014-05-09 00:00:00</td>\n",
       "      <td>54.1</td>\n",
       "      <td>77992</td>\n",
       "      <td>2014-05-09 00:00:00</td>\n",
       "      <td>52.6</td>\n",
       "      <td>5/9/14</td>\n",
       "      <td>115.0</td>\n",
       "      <td>632.492</td>\n",
       "      <td>632.492</td>\n",
       "      <td>830.361</td>\n",
       "      <td>830.361</td>\n",
       "    </tr>\n",
       "    <tr>\n",
       "      <th>2014-05-10</th>\n",
       "      <td>2014-05-10 00:00:00</td>\n",
       "      <td>113.0</td>\n",
       "      <td>572</td>\n",
       "      <td>2014-05-10 00:00:00</td>\n",
       "      <td>52.2</td>\n",
       "      <td>78088</td>\n",
       "      <td>2014-05-10 00:00:00</td>\n",
       "      <td>53.2</td>\n",
       "      <td>5/10/14</td>\n",
       "      <td>116.0</td>\n",
       "      <td>633.265</td>\n",
       "      <td>633.265</td>\n",
       "      <td>830.352</td>\n",
       "      <td>830.352</td>\n",
       "    </tr>\n",
       "  </tbody>\n",
       "</table>\n",
       "</div>"
      ],
      "text/plain": [
       "                     datetime_x  Comal River  Unnamed: 0_x  \\\n",
       "datetime                                                     \n",
       "2014-05-06  2014-05-06 00:00:00        116.0           188   \n",
       "2014-05-07  2014-05-07 00:00:00        116.0           284   \n",
       "2014-05-08  2014-05-08 00:00:00        113.0           380   \n",
       "2014-05-09  2014-05-09 00:00:00        118.0           476   \n",
       "2014-05-10  2014-05-10 00:00:00        113.0           572   \n",
       "\n",
       "                     datetime_y  Comal Rv (nc)  Unnamed: 0_y  \\\n",
       "datetime                                                       \n",
       "2014-05-06  2014-05-06 00:00:00           61.9         77704   \n",
       "2014-05-07  2014-05-07 00:00:00           54.1         77800   \n",
       "2014-05-08  2014-05-08 00:00:00           52.2         77896   \n",
       "2014-05-09  2014-05-09 00:00:00           54.1         77992   \n",
       "2014-05-10  2014-05-10 00:00:00           52.2         78088   \n",
       "\n",
       "                     datetime_x  Comal Rv (oc) datetime_y  springflow  \\\n",
       "datetime                                                                \n",
       "2014-05-06  2014-05-06 00:00:00           50.7     5/6/14       118.0   \n",
       "2014-05-07  2014-05-07 00:00:00           50.1     5/7/14       116.0   \n",
       "2014-05-08  2014-05-08 00:00:00           51.3     5/8/14       115.0   \n",
       "2014-05-09  2014-05-09 00:00:00           52.6     5/9/14       115.0   \n",
       "2014-05-10  2014-05-10 00:00:00           53.2    5/10/14       116.0   \n",
       "\n",
       "            MaxLevel_x  MaxLevel_J17  MaxLevel_y  MaxLevel_J27  \n",
       "datetime                                                        \n",
       "2014-05-06     632.095       632.095     830.749       830.749  \n",
       "2014-05-07     631.673       631.673     830.637       830.637  \n",
       "2014-05-08     631.839       631.839     830.498       830.498  \n",
       "2014-05-09     632.492       632.492     830.361       830.361  \n",
       "2014-05-10     633.265       633.265     830.352       830.352  "
      ]
     },
     "execution_count": 11,
     "metadata": {},
     "output_type": "execute_result"
    }
   ],
   "source": [
    "df_main = comalRv.merge(comalRvnc, left_index=True, right_index=True)\n",
    "df_main = df_main.merge(comalRvoc, left_index=True, right_index=True)\n",
    "df_main = df_main.merge(comalSpgs, left_index=True, right_index=True)\n",
    "df_main = df_main.merge(j17, right_index=True, left_index=True)\n",
    "df_main = df_main.merge(j27, right_index=True, left_index=True)\n",
    "df_main.head()"
   ]
  },
  {
   "cell_type": "markdown",
   "metadata": {},
   "source": [
    "# Clean up the USGS and EAA data"
   ]
  },
  {
   "cell_type": "code",
   "execution_count": 13,
   "metadata": {},
   "outputs": [
    {
     "data": {
      "text/html": [
       "<div>\n",
       "<style scoped>\n",
       "    .dataframe tbody tr th:only-of-type {\n",
       "        vertical-align: middle;\n",
       "    }\n",
       "\n",
       "    .dataframe tbody tr th {\n",
       "        vertical-align: top;\n",
       "    }\n",
       "\n",
       "    .dataframe thead th {\n",
       "        text-align: right;\n",
       "    }\n",
       "</style>\n",
       "<table border=\"1\" class=\"dataframe\">\n",
       "  <thead>\n",
       "    <tr style=\"text-align: right;\">\n",
       "      <th></th>\n",
       "      <th>Comal River</th>\n",
       "      <th>Comal Rv (nc)</th>\n",
       "      <th>Comal Rv (oc)</th>\n",
       "      <th>springflow</th>\n",
       "      <th>MaxLevel_J17</th>\n",
       "      <th>MaxLevel_J27</th>\n",
       "    </tr>\n",
       "    <tr>\n",
       "      <th>datetime</th>\n",
       "      <th></th>\n",
       "      <th></th>\n",
       "      <th></th>\n",
       "      <th></th>\n",
       "      <th></th>\n",
       "      <th></th>\n",
       "    </tr>\n",
       "  </thead>\n",
       "  <tbody>\n",
       "    <tr>\n",
       "      <th>2014-05-06</th>\n",
       "      <td>116.0</td>\n",
       "      <td>61.9</td>\n",
       "      <td>50.7</td>\n",
       "      <td>118.0</td>\n",
       "      <td>632.095</td>\n",
       "      <td>830.749</td>\n",
       "    </tr>\n",
       "    <tr>\n",
       "      <th>2014-05-07</th>\n",
       "      <td>116.0</td>\n",
       "      <td>54.1</td>\n",
       "      <td>50.1</td>\n",
       "      <td>116.0</td>\n",
       "      <td>631.673</td>\n",
       "      <td>830.637</td>\n",
       "    </tr>\n",
       "    <tr>\n",
       "      <th>2014-05-08</th>\n",
       "      <td>113.0</td>\n",
       "      <td>52.2</td>\n",
       "      <td>51.3</td>\n",
       "      <td>115.0</td>\n",
       "      <td>631.839</td>\n",
       "      <td>830.498</td>\n",
       "    </tr>\n",
       "    <tr>\n",
       "      <th>2014-05-09</th>\n",
       "      <td>118.0</td>\n",
       "      <td>54.1</td>\n",
       "      <td>52.6</td>\n",
       "      <td>115.0</td>\n",
       "      <td>632.492</td>\n",
       "      <td>830.361</td>\n",
       "    </tr>\n",
       "    <tr>\n",
       "      <th>2014-05-10</th>\n",
       "      <td>113.0</td>\n",
       "      <td>52.2</td>\n",
       "      <td>53.2</td>\n",
       "      <td>116.0</td>\n",
       "      <td>633.265</td>\n",
       "      <td>830.352</td>\n",
       "    </tr>\n",
       "  </tbody>\n",
       "</table>\n",
       "</div>"
      ],
      "text/plain": [
       "            Comal River  Comal Rv (nc)  Comal Rv (oc)  springflow  \\\n",
       "datetime                                                            \n",
       "2014-05-06        116.0           61.9           50.7       118.0   \n",
       "2014-05-07        116.0           54.1           50.1       116.0   \n",
       "2014-05-08        113.0           52.2           51.3       115.0   \n",
       "2014-05-09        118.0           54.1           52.6       115.0   \n",
       "2014-05-10        113.0           52.2           53.2       116.0   \n",
       "\n",
       "            MaxLevel_J17  MaxLevel_J27  \n",
       "datetime                                \n",
       "2014-05-06       632.095       830.749  \n",
       "2014-05-07       631.673       830.637  \n",
       "2014-05-08       631.839       830.498  \n",
       "2014-05-09       632.492       830.361  \n",
       "2014-05-10       633.265       830.352  "
      ]
     },
     "execution_count": 13,
     "metadata": {},
     "output_type": "execute_result"
    }
   ],
   "source": [
    "df_main = df_main[[\"Comal River\", \"Comal Rv (nc)\", \"Comal Rv (oc)\", \"springflow\", \"MaxLevel_J17\", \"MaxLevel_J27\"]]\n",
    "df_main.to_csv(os.path.join(\"..\", \"data\", \"streamflow\", \"main_ComalRvs.csv\"))\n",
    "\n",
    "df_main.head()"
   ]
  },
  {
   "cell_type": "code",
   "execution_count": null,
   "metadata": {},
   "outputs": [],
   "source": [
    "# # cols_list = [\"Unnamed: 0_x\", \"Unnamed: 0_y\", \"datetime_x\", \"datetime_y\", \"datetime\" \n",
    "# #              \"MaxLevel_J17_x\", \"MaxLevel_J17_y\", \"MaxLevel_J27_x\", \"MaxLevel_J27_y\",\n",
    "# #              \"MaxLevel_x\", \"MaxLevel_y\"]\n",
    "# # columns = df_main.columns\n",
    "\n",
    "# # for col in columns:\n",
    "# #     if col in cols_list:\n",
    "# #         del df_main[col]\n",
    "# # # df_main.index = df_main['datetime']\n",
    "# # # del df_main['datetime']\n",
    "\n",
    "# df_main.to_csv(os.path.join(\"..\", \"data\", \"merged_output\", \"Comal_J17_J27.csv\"))\n",
    "# df_main.head()"
   ]
  },
  {
   "cell_type": "code",
   "execution_count": 14,
   "metadata": {},
   "outputs": [
    {
     "name": "stdout",
     "output_type": "stream",
     "text": [
      "               Comal River  Comal Rv (nc)  Comal Rv (oc)  springflow  \\\n",
      "Comal River       1.000000       0.594292       0.203956    0.598365   \n",
      "Comal Rv (nc)     0.594292       1.000000       0.247899    0.974371   \n",
      "Comal Rv (oc)     0.203956       0.247899       1.000000    0.292987   \n",
      "springflow        0.598365       0.974371       0.292987    1.000000   \n",
      "MaxLevel_J17      0.591607       0.963482       0.325154    0.973131   \n",
      "MaxLevel_J27      0.442824       0.748340       0.293066    0.791879   \n",
      "\n",
      "               MaxLevel_J17  MaxLevel_J27  \n",
      "Comal River        0.591607      0.442824  \n",
      "Comal Rv (nc)      0.963482      0.748340  \n",
      "Comal Rv (oc)      0.325154      0.293066  \n",
      "springflow         0.973131      0.791879  \n",
      "MaxLevel_J17       1.000000      0.779707  \n",
      "MaxLevel_J27       0.779707      1.000000  \n"
     ]
    }
   ],
   "source": [
    "corr = df_main.corr()\n",
    "print(corr)"
   ]
  },
  {
   "cell_type": "code",
   "execution_count": 15,
   "metadata": {},
   "outputs": [
    {
     "data": {
      "image/png": "[encoded data removed]",
      "text/plain": [
       "<Figure size 432x288 with 36 Axes>"
      ]
     },
     "metadata": {
      "needs_background": "light"
     },
     "output_type": "display_data"
    }
   ],
   "source": [
    "scatter_matrix(df_main, alpha=.01)\n",
    "plt.tight_layout\n",
    "plt.savefig(os.path.join('..', 'img', 'corr_plt.png'))"
   ]
  },
  {
   "cell_type": "code",
   "execution_count": null,
   "metadata": {},
   "outputs": [],
   "source": []
  }
 ],
 "metadata": {
  "kernelspec": {
   "display_name": "Python 3",
   "language": "python",
   "name": "python3"
  },
  "language_info": {
   "codemirror_mode": {
    "name": "ipython",
    "version": 3
   },
   "file_extension": ".py",
   "mimetype": "text/x-python",
   "name": "python",
   "nbconvert_exporter": "python",
   "pygments_lexer": "ipython3",
   "version": "3.7.0"
  }
 },
 "nbformat": 4,
 "nbformat_minor": 2
}
