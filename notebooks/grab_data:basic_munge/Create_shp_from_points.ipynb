{
 "cells": [
  {
   "cell_type": "code",
   "execution_count": 13,
   "metadata": {},
   "outputs": [],
   "source": [
    "import pandas as pd\n",
    "import os\n",
    "import geopandas as gpd\n",
    "import pandas as pd\n",
    "from shapely.geometry import Point\n",
    "import os"
   ]
  },
  {
   "cell_type": "code",
   "execution_count": 23,
   "metadata": {},
   "outputs": [
    {
     "name": "stderr",
     "output_type": "stream",
     "text": [
      "CPLE_NotSupported in driver ESRI Shapefile does not support creation option ENCODING\n"
     ]
    },
    {
     "name": "stdout",
     "output_type": "stream",
     "text": [
      "Index(['STATION', 'NAME', 'LATITUDE', 'LONGITUDE', 'ELEVATION', 'DATE', 'PRCP',\n",
      "       'TMAX', 'TMIN', 'TOBS'],\n",
      "      dtype='object')\n"
     ]
    }
   ],
   "source": [
    "masterDF = pd.read_csv(os.path.join(\"..\", \"data\", \"precip\", \"NCDC\", \"downloaded_csvs\", \"1532091.csv\"))\n",
    "masterDF = masterDF.drop_duplicates(subset=\"STATION\")\n",
    "print(masterDF.columns)\n",
    "masterDF.dropna(subset=['LONGITUDE', 'LATITUDE'],inplace=True)\n",
    "masterDF['geometry'] = masterDF.apply(lambda xy: Point(xy['LONGITUDE'],xy['LATITUDE']),axis=1)\n",
    "masterDF = masterDF[['geometry', 'STATION', 'NAME', 'LATITUDE', 'LONGITUDE', 'ELEVATION', 'DATE', 'PRCP']]\n",
    "proj4 = '+proj=longlat +ellps=WGS84 +datum=WGS84 +no_defs'\n",
    "\n",
    "masterDF = gpd.GeoDataFrame(masterDF,geometry='geometry' ,crs=proj4)\n",
    "masterDF.to_file(os.path.join(\"..\", \"data\", \"precip\", \"NCDC\", \"shps\", \"1532091.shp\"))\n",
    "\n",
    "\n"
   ]
  },
  {
   "cell_type": "code",
   "execution_count": null,
   "metadata": {},
   "outputs": [],
   "source": []
  }
 ],
 "metadata": {
  "kernelspec": {
   "display_name": "Python 3",
   "language": "python",
   "name": "python3"
  },
  "language_info": {
   "codemirror_mode": {
    "name": "ipython",
    "version": 3
   },
   "file_extension": ".py",
   "mimetype": "text/x-python",
   "name": "python",
   "nbconvert_exporter": "python",
   "pygments_lexer": "ipython3",
   "version": "3.7.0"
  }
 },
 "nbformat": 4,
 "nbformat_minor": 2
}
