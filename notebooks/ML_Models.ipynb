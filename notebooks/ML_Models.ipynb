{
 "cells": [
  {
   "cell_type": "code",
   "execution_count": 1,
   "metadata": {},
   "outputs": [],
   "source": [
    "import pandas as pd\n",
    "import numpy as np\n",
    "import os\n",
    "import matplotlib.pyplot as plt\n",
    "from sklearn.neighbors import KNeighborsClassifier, KNeighborsRegressor\n",
    "from sklearn.model_selection import train_test_split\n",
    "from sklearn.metrics import accuracy_score\n",
    "from scipy.stats import linregress\n",
    "from sklearn import linear_model\n",
    "from sklearn.svm import SVR\n",
    "from sklearn.tree import DecisionTreeClassifier\n",
    "from sklearn.dummy import DummyRegressor\n"
   ]
  },
  {
   "cell_type": "code",
   "execution_count": 2,
   "metadata": {
    "scrolled": true
   },
   "outputs": [
    {
     "data": {
      "text/html": [
       "<div>\n",
       "<style scoped>\n",
       "    .dataframe tbody tr th:only-of-type {\n",
       "        vertical-align: middle;\n",
       "    }\n",
       "\n",
       "    .dataframe tbody tr th {\n",
       "        vertical-align: top;\n",
       "    }\n",
       "\n",
       "    .dataframe thead th {\n",
       "        text-align: right;\n",
       "    }\n",
       "</style>\n",
       "<table border=\"1\" class=\"dataframe\">\n",
       "  <thead>\n",
       "    <tr style=\"text-align: right;\">\n",
       "      <th></th>\n",
       "      <th>Comal Rv Discharge (cfs)</th>\n",
       "      <th>Springflow (cfs)</th>\n",
       "      <th>J17 (ft above msl)</th>\n",
       "      <th>J27 (ft above msl)</th>\n",
       "    </tr>\n",
       "    <tr>\n",
       "      <th>datetime</th>\n",
       "      <th></th>\n",
       "      <th></th>\n",
       "      <th></th>\n",
       "      <th></th>\n",
       "    </tr>\n",
       "  </thead>\n",
       "  <tbody>\n",
       "    <tr>\n",
       "      <th>1986-10-04</th>\n",
       "      <td>238.0</td>\n",
       "      <td>245.0</td>\n",
       "      <td>659.20</td>\n",
       "      <td>873.15</td>\n",
       "    </tr>\n",
       "    <tr>\n",
       "      <th>1986-10-05</th>\n",
       "      <td>254.0</td>\n",
       "      <td>245.0</td>\n",
       "      <td>659.20</td>\n",
       "      <td>873.15</td>\n",
       "    </tr>\n",
       "    <tr>\n",
       "      <th>1986-10-08</th>\n",
       "      <td>262.0</td>\n",
       "      <td>250.0</td>\n",
       "      <td>662.56</td>\n",
       "      <td>873.45</td>\n",
       "    </tr>\n",
       "    <tr>\n",
       "      <th>1986-10-14</th>\n",
       "      <td>286.0</td>\n",
       "      <td>278.0</td>\n",
       "      <td>669.96</td>\n",
       "      <td>874.05</td>\n",
       "    </tr>\n",
       "    <tr>\n",
       "      <th>1986-10-15</th>\n",
       "      <td>278.0</td>\n",
       "      <td>277.0</td>\n",
       "      <td>670.75</td>\n",
       "      <td>874.15</td>\n",
       "    </tr>\n",
       "  </tbody>\n",
       "</table>\n",
       "</div>"
      ],
      "text/plain": [
       "            Comal Rv Discharge (cfs)  Springflow (cfs)  J17 (ft above msl)  \\\n",
       "datetime                                                                     \n",
       "1986-10-04                     238.0             245.0              659.20   \n",
       "1986-10-05                     254.0             245.0              659.20   \n",
       "1986-10-08                     262.0             250.0              662.56   \n",
       "1986-10-14                     286.0             278.0              669.96   \n",
       "1986-10-15                     278.0             277.0              670.75   \n",
       "\n",
       "            J27 (ft above msl)  \n",
       "datetime                        \n",
       "1986-10-04              873.15  \n",
       "1986-10-05              873.15  \n",
       "1986-10-08              873.45  \n",
       "1986-10-14              874.05  \n",
       "1986-10-15              874.15  "
      ]
     },
     "execution_count": 2,
     "metadata": {},
     "output_type": "execute_result"
    }
   ],
   "source": [
    "# df = pd.read_csv(os.path.join(\"..\", \"..\", \"data\", \"streamflow\", \"ComalRv_Spgfl.csv\"))\n",
    "df = pd.read_csv(os.path.join(\"..\", \"..\", \"data\", \"streamflow\", \"Springflow_All_Comal.csv\"))\n",
    "\n",
    "df.set_index(pd.to_datetime(df['datetime']), inplace=True)\n",
    "df.dropna(inplace=True)\n",
    "del df['datetime']\n",
    "df.head()"
   ]
  },
  {
   "cell_type": "markdown",
   "metadata": {},
   "source": [
    "# Let's compare J-17 to Comal Springs"
   ]
  },
  {
   "cell_type": "code",
   "execution_count": 3,
   "metadata": {},
   "outputs": [
    {
     "name": "stdout",
     "output_type": "stream",
     "text": [
      "9619\n",
      "9568\n"
     ]
    }
   ],
   "source": [
    "m = 3\n",
    "print(len(df))\n",
    "for col in df.columns:\n",
    "    std = np.std(df[col])\n",
    "    df = df.loc[abs(df[col] - np.nanmean(df[col])) < m * std]\n",
    "print(len(df))"
   ]
  },
  {
   "cell_type": "code",
   "execution_count": 4,
   "metadata": {},
   "outputs": [],
   "source": [
    "X_J27 = np.array(df['J27 (ft above msl)'].tolist())"
   ]
  },
  {
   "cell_type": "code",
   "execution_count": 5,
   "metadata": {},
   "outputs": [],
   "source": [
    "X_J17, y = np.array(df['J17 (ft above msl)'].tolist()), np.array(df['Springflow (cfs)'].tolist()) # make these list like arrays\n",
    "X_ComRv = np.array(df['Comal Rv Discharge (cfs)'].tolist())\n",
    "X_J27 = np.array(df['J27 (ft above msl)'].tolist())"
   ]
  },
  {
   "cell_type": "code",
   "execution_count": 6,
   "metadata": {},
   "outputs": [
    {
     "data": {
      "text/plain": [
       "array([659.2 , 238.  , 873.15])"
      ]
     },
     "execution_count": 6,
     "metadata": {},
     "output_type": "execute_result"
    }
   ],
   "source": [
    "X = []\n",
    "\n",
    "for i, row in df.iterrows():\n",
    "    X_J17, X_ComRv, X_J27 = row['J17 (ft above msl)'], row[\"Comal Rv Discharge (cfs)\"], row['J27 (ft above msl)']\n",
    "    X.append([X_J17, X_ComRv, X_J27])\n",
    "\n",
    "X = np.array(X)\n",
    "X[0]"
   ]
  },
  {
   "cell_type": "code",
   "execution_count": 7,
   "metadata": {},
   "outputs": [
    {
     "name": "stdout",
     "output_type": "stream",
     "text": [
      "Labels for training and testing data\n",
      "Train X shape:  (4784, 3)\n",
      "Train Y shape:  (4784,)\n",
      "Test  X shape:  (4784, 3)\n",
      "Test  Y shape:  (4784,)\n"
     ]
    }
   ],
   "source": [
    "train_X, test_X, train_y, test_y = train_test_split(X, y, test_size=0.5, random_state=42, shuffle=True)\n",
    "\n",
    "print(\"Labels for training and testing data\")\n",
    "print(\"Train X shape: \", train_X.shape)\n",
    "print(\"Train Y shape: \", train_y.shape)\n",
    "print(\"Test  X shape: \", test_X.shape)\n",
    "print(\"Test  Y shape: \", test_y.shape)"
   ]
  },
  {
   "cell_type": "code",
   "execution_count": null,
   "metadata": {},
   "outputs": [],
   "source": [
    "svr = SVR(kernel='linear', gamma='scale', C=1.0, epsilon=0)\n",
    "svr.fit(train_X, train_y) \n",
    "print('finished training svr')\n",
    "clf = linear_model.Lasso(alpha=0.1)\n",
    "clf.fit(train_X, train_y)\n",
    "print('finished training clf')"
   ]
  },
  {
   "cell_type": "code",
   "execution_count": null,
   "metadata": {},
   "outputs": [],
   "source": [
    "future_j17 = [[400]] # Springflow at Comal River\n",
    "future_j17 = np.array(future_j17)\n",
    "\n",
    "x_list = []\n",
    "y_list = []\n",
    "for i in range(len(X)):\n",
    "    x_list.append(X[i])\n",
    "    y_list.append(y[i])\n",
    "\n",
    "x_list = np.array(x_list)\n",
    "y_list = np.array(y_list)\n",
    "\n",
    "print(x_list.shape)\n",
    "print(y_list.shape)"
   ]
  },
  {
   "cell_type": "code",
   "execution_count": null,
   "metadata": {},
   "outputs": [],
   "source": [
    "y_pred_clf = clf.predict(x_list)\n",
    "y_pred_svr = svr.predict(x_list)\n",
    "print('--------------')\n",
    "print(\"Lasso: \", clf.score(test_X, test_y))\n",
    "print(\"SVR: \", svr.score(test_X, test_y))"
   ]
  },
  {
   "cell_type": "code",
   "execution_count": null,
   "metadata": {},
   "outputs": [],
   "source": [
    "print(df.loc['2014-01-01'])\n",
    "\n",
    "x_list_test = [[640.68, 164, 836]]\n",
    "\n",
    "y_pred_clf_test = clf.predict(x_list_test)\n",
    "y_pred_svr_test = svr.predict(x_list_test)\n",
    "print(\"Lasso: \", clf.score(test_X, test_y))\n",
    "print(\"SVR: \", svr.score(test_X, test_y))\n",
    "print(y_pred_svr_test, y_pred_clf_test)"
   ]
  },
  {
   "cell_type": "code",
   "execution_count": null,
   "metadata": {},
   "outputs": [],
   "source": [
    "df['Springflow_SVR'] = y_pred_svr_test\n",
    "\n"
   ]
  },
  {
   "cell_type": "code",
   "execution_count": null,
   "metadata": {},
   "outputs": [],
   "source": []
  },
  {
   "cell_type": "code",
   "execution_count": null,
   "metadata": {},
   "outputs": [],
   "source": [
    "fig, ax = plt.subplots(figsize=(8,8))\n",
    "ax.scatter(y_list, y_pred_clf, alpha=0.3)\n",
    "slope, intercept, r_value, p_value, std_err = linregress(y_list, y_pred_clf)\n",
    "print(\"Slope: \", slope)\n",
    "print(\"Intercept: \", intercept)\n",
    "print(\"R Value: \", r_value)\n",
    "print(\"P Value: \", p_value)\n",
    "regx = np.arange(100,400)\n",
    "regy = slope*regx + intercept\n",
    "ax.plot(regx,regy,color='r')\n",
    "\n",
    "ax.set_title('Lasso: Observed and Predicted Springflow', size=20)\n",
    "ax.set_ylabel(\"Predicted Springflow (cfs)\", size=20)\n",
    "ax.set_xlabel(\"Observed Springflow (cfs)\", size=20)\n",
    "ax.grid()\n",
    "plt.savefig(os.path.join(\"..\", \"..\", \"img\", \"Springflow_pred_obs.png\"))\n",
    "plt.show()"
   ]
  },
  {
   "cell_type": "code",
   "execution_count": null,
   "metadata": {},
   "outputs": [],
   "source": [
    "fig, ax = plt.subplots(figsize=(8,8))\n",
    "ax.scatter(y_list, y_pred_svr, alpha=0.3)\n",
    "slope, intercept, r_value, p_value, std_err = linregress(y_list, y_pred_svr)\n",
    "print(\"Slope: \", slope)\n",
    "print(\"Intercept: \", intercept)\n",
    "print(\"R Value: \", r_value)\n",
    "print(\"P Value: \", p_value)\n",
    "regx = np.arange(100,400)\n",
    "regy = slope*regx + intercept\n",
    "ax.plot(regx,regy,color='r')\n",
    "\n",
    "ax.set_title('SVR: Observed and Predicted Springflow', size=20)\n",
    "ax.set_ylabel(\"Predicted Springflow (cfs)\", size=20)\n",
    "ax.set_xlabel(\"Observed Springflow (cfs)\", size=20)\n",
    "ax.grid()\n",
    "plt.savefig(os.path.join(\"..\", \"..\", \"img\", \"svr.png\"))\n",
    "plt.show()"
   ]
  },
  {
   "cell_type": "code",
   "execution_count": null,
   "metadata": {},
   "outputs": [],
   "source": [
    "datetime = pd.to_datetime(df.index)\n",
    "fig, ax = plt.subplots(figsize=(15,8))\n",
    "ax.plot(datetime, X[:,1],label='Comal River')\n",
    "ax.plot(datetime,y_pred_clf,label='Comal Springs (Predicted)')\n",
    "ax.plot(datetime,y_list,label='Comal Springs (Observed)')\n",
    "ax.set_title('Time Series of Springflow Output', size=25)\n",
    "ax.set_ylabel(\"Comal Springflow\", size=20)\n",
    "ax.set_xlabel(\"Year\", size=20)\n",
    "ax.grid()\n",
    "ax.legend()\n",
    "plt.savefig(os.path.join(\"..\", \"..\", \"img\", \"obs_lasso.png\"))\n",
    "plt.show()\n",
    "y_pred_clf"
   ]
  },
  {
   "cell_type": "code",
   "execution_count": null,
   "metadata": {},
   "outputs": [],
   "source": []
  }
 ],
 "metadata": {
  "kernelspec": {
   "display_name": "Python 3",
   "language": "python",
   "name": "python3"
  },
  "language_info": {
   "codemirror_mode": {
    "name": "ipython",
    "version": 3
   },
   "file_extension": ".py",
   "mimetype": "text/x-python",
   "name": "python",
   "nbconvert_exporter": "python",
   "pygments_lexer": "ipython3",
   "version": "3.7.0"
  }
 },
 "nbformat": 4,
 "nbformat_minor": 2
}
