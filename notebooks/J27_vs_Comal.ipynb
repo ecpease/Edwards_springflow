{
 "cells": [
  {
   "cell_type": "code",
   "execution_count": 1,
   "metadata": {},
   "outputs": [],
   "source": [
    "import pandas as pd\n",
    "import numpy as np\n",
    "import os\n",
    "import matplotlib.pyplot as plt\n",
    "from sklearn.neighbors import KNeighborsClassifier, KNeighborsRegressor\n",
    "from sklearn.model_selection import train_test_split"
   ]
  },
  {
   "cell_type": "code",
   "execution_count": 2,
   "metadata": {
    "scrolled": true
   },
   "outputs": [
    {
     "data": {
      "text/html": [
       "<div>\n",
       "<style scoped>\n",
       "    .dataframe tbody tr th:only-of-type {\n",
       "        vertical-align: middle;\n",
       "    }\n",
       "\n",
       "    .dataframe tbody tr th {\n",
       "        vertical-align: top;\n",
       "    }\n",
       "\n",
       "    .dataframe thead th {\n",
       "        text-align: right;\n",
       "    }\n",
       "</style>\n",
       "<table border=\"1\" class=\"dataframe\">\n",
       "  <thead>\n",
       "    <tr style=\"text-align: right;\">\n",
       "      <th></th>\n",
       "      <th>Comal River</th>\n",
       "      <th>Comal Rv (nc)</th>\n",
       "      <th>Comal Rv (oc)</th>\n",
       "      <th>MaxLevel_J17</th>\n",
       "      <th>MaxLevel_J27</th>\n",
       "    </tr>\n",
       "    <tr>\n",
       "      <th>datetime</th>\n",
       "      <th></th>\n",
       "      <th></th>\n",
       "      <th></th>\n",
       "      <th></th>\n",
       "      <th></th>\n",
       "    </tr>\n",
       "  </thead>\n",
       "  <tbody>\n",
       "    <tr>\n",
       "      <th>2014-05-06</th>\n",
       "      <td>116.0</td>\n",
       "      <td>61.9</td>\n",
       "      <td>50.7</td>\n",
       "      <td>632.095</td>\n",
       "      <td>830.749</td>\n",
       "    </tr>\n",
       "    <tr>\n",
       "      <th>2014-05-07</th>\n",
       "      <td>116.0</td>\n",
       "      <td>54.1</td>\n",
       "      <td>50.1</td>\n",
       "      <td>631.673</td>\n",
       "      <td>830.637</td>\n",
       "    </tr>\n",
       "    <tr>\n",
       "      <th>2014-05-08</th>\n",
       "      <td>113.0</td>\n",
       "      <td>52.2</td>\n",
       "      <td>51.3</td>\n",
       "      <td>631.839</td>\n",
       "      <td>830.498</td>\n",
       "    </tr>\n",
       "    <tr>\n",
       "      <th>2014-05-09</th>\n",
       "      <td>118.0</td>\n",
       "      <td>54.1</td>\n",
       "      <td>52.6</td>\n",
       "      <td>632.492</td>\n",
       "      <td>830.361</td>\n",
       "    </tr>\n",
       "    <tr>\n",
       "      <th>2014-05-10</th>\n",
       "      <td>113.0</td>\n",
       "      <td>52.2</td>\n",
       "      <td>53.2</td>\n",
       "      <td>633.265</td>\n",
       "      <td>830.352</td>\n",
       "    </tr>\n",
       "  </tbody>\n",
       "</table>\n",
       "</div>"
      ],
      "text/plain": [
       "            Comal River  Comal Rv (nc)  Comal Rv (oc)  MaxLevel_J17  \\\n",
       "datetime                                                              \n",
       "2014-05-06        116.0           61.9           50.7       632.095   \n",
       "2014-05-07        116.0           54.1           50.1       631.673   \n",
       "2014-05-08        113.0           52.2           51.3       631.839   \n",
       "2014-05-09        118.0           54.1           52.6       632.492   \n",
       "2014-05-10        113.0           52.2           53.2       633.265   \n",
       "\n",
       "            MaxLevel_J27  \n",
       "datetime                  \n",
       "2014-05-06       830.749  \n",
       "2014-05-07       830.637  \n",
       "2014-05-08       830.498  \n",
       "2014-05-09       830.361  \n",
       "2014-05-10       830.352  "
      ]
     },
     "execution_count": 2,
     "metadata": {},
     "output_type": "execute_result"
    }
   ],
   "source": [
    "df = pd.read_csv(os.path.join(\"..\", \"data\", \"merged_output\", \"Comal_J17_J27.csv\"))\n",
    "df.set_index(pd.to_datetime(df['datetime']), inplace=True)\n",
    "del df['datetime']\n",
    "df.head()"
   ]
  },
  {
   "cell_type": "code",
   "execution_count": 3,
   "metadata": {},
   "outputs": [],
   "source": [
    "X, y = np.array(df['Comal River'].tolist()), np.array(df['MaxLevel_J27'].tolist()) # make these list like arrays"
   ]
  },
  {
   "cell_type": "code",
   "execution_count": 4,
   "metadata": {},
   "outputs": [
    {
     "name": "stdout",
     "output_type": "stream",
     "text": [
      "Labels for training and testing data\n",
      "Train X shape:  (789, 1)\n",
      "Train Y shape:  (789, 1)\n",
      "Test  X shape:  (790, 1)\n",
      "Test  Y shape:  (790, 1)\n"
     ]
    }
   ],
   "source": [
    "train_X, test_X, train_y, test_y = train_test_split(X, y, test_size=0.5, random_state=123)\n",
    "\n",
    "train_X = train_X.reshape(-1, 1)\n",
    "test_X  = test_X.reshape(-1, 1)\n",
    "train_y = train_y.reshape(-1, 1)\n",
    "test_y  = test_y.reshape(-1, 1)\n",
    "\n",
    "print(\"Labels for training and testing data\")\n",
    "print(\"Train X shape: \", train_X.shape)\n",
    "print(\"Train Y shape: \", train_y.shape)\n",
    "print(\"Test  X shape: \", test_X.shape)\n",
    "print(\"Test  Y shape: \", test_y.shape)"
   ]
  },
  {
   "cell_type": "code",
   "execution_count": 5,
   "metadata": {},
   "outputs": [
    {
     "data": {
      "text/plain": [
       "KNeighborsRegressor(algorithm='auto', leaf_size=30, metric='minkowski',\n",
       "          metric_params=None, n_jobs=None, n_neighbors=20, p=2,\n",
       "          weights='uniform')"
      ]
     },
     "execution_count": 5,
     "metadata": {},
     "output_type": "execute_result"
    }
   ],
   "source": [
    "k = 20 # ?? I dont know what is best to use yet\n",
    "knn = KNeighborsRegressor(n_neighbors=k) # use regressor for this kind of data\n",
    "knn.fit(train_X, train_y)"
   ]
  },
  {
   "cell_type": "code",
   "execution_count": 19,
   "metadata": {},
   "outputs": [],
   "source": [
    "future_j27 = [[200]] # Springflow at Comal Springs\n",
    "future_j27 = np.array(future_j27)"
   ]
  },
  {
   "cell_type": "code",
   "execution_count": 20,
   "metadata": {},
   "outputs": [
    {
     "name": "stdout",
     "output_type": "stream",
     "text": [
      "[[850.82]]\n"
     ]
    }
   ],
   "source": [
    "y_pred = knn.predict(future_j27)\n",
    "print(y_pred)"
   ]
  },
  {
   "cell_type": "code",
   "execution_count": 18,
   "metadata": {},
   "outputs": [
    {
     "data": {
      "image/png": "[encoded data removed]",
      "text/plain": [
       "<Figure size 432x288 with 1 Axes>"
      ]
     },
     "metadata": {
      "needs_background": "light"
     },
     "output_type": "display_data"
    }
   ],
   "source": [
    "fig, ax = plt.subplots()\n",
    "ax.set_xlim(0, 1200)\n",
    "plt.scatter(df['Comal River'], df['MaxLevel_J27'])\n",
    "ax.set_title('Time Series of Max Level ')\n",
    "ax.set_xlabel(\"Comal River\")\n",
    "ax.set_ylabel(\"J27 Max Level\")\n",
    "plt.savefig(os.path.join(\"..\", \"img\", \"J27_Comal_corr.png\"))\n",
    "plt.show()"
   ]
  },
  {
   "cell_type": "code",
   "execution_count": null,
   "metadata": {},
   "outputs": [],
   "source": []
  }
 ],
 "metadata": {
  "kernelspec": {
   "display_name": "Python 3",
   "language": "python",
   "name": "python3"
  },
  "language_info": {
   "codemirror_mode": {
    "name": "ipython",
    "version": 3
   },
   "file_extension": ".py",
   "mimetype": "text/x-python",
   "name": "python",
   "nbconvert_exporter": "python",
   "pygments_lexer": "ipython3",
   "version": "3.7.0"
  }
 },
 "nbformat": 4,
 "nbformat_minor": 2
}
