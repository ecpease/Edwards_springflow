{
 "cells": [
  {
   "cell_type": "code",
   "execution_count": 1,
   "metadata": {},
   "outputs": [],
   "source": [
    "import pandas as pd\n",
    "import os\n",
    "import numpy as np\n",
    "import glob\n",
    "import glob2\n",
    "import matplotlib.pyplot as plt\n",
    "import matplotlib.dates as mdates\n",
    "from matplotlib.dates import YearLocator, MonthLocator, DateFormatter\n",
    "\n",
    "# %matplotlib notebook"
   ]
  },
  {
   "cell_type": "markdown",
   "metadata": {},
   "source": [
    "## Delete all files that begin at 2018"
   ]
  },
  {
   "cell_type": "code",
   "execution_count": 2,
   "metadata": {},
   "outputs": [
    {
     "ename": "FileNotFoundError",
     "evalue": "[Errno 2] No such file or directory: '../data/precip/NCDC/output_stations'",
     "output_type": "error",
     "traceback": [
      "\u001b[0;31m---------------------------------------------------------------------------\u001b[0m",
      "\u001b[0;31mFileNotFoundError\u001b[0m                         Traceback (most recent call last)",
      "\u001b[0;32m<ipython-input-2-d53cffb4efa8>\u001b[0m in \u001b[0;36m<module>\u001b[0;34m\u001b[0m\n\u001b[1;32m      7\u001b[0m         \u001b[0mos\u001b[0m\u001b[0;34m.\u001b[0m\u001b[0mremove\u001b[0m\u001b[0;34m(\u001b[0m\u001b[0mfile\u001b[0m\u001b[0;34m)\u001b[0m\u001b[0;34m\u001b[0m\u001b[0m\n\u001b[1;32m      8\u001b[0m \u001b[0;34m\u001b[0m\u001b[0m\n\u001b[0;32m----> 9\u001b[0;31m \u001b[0mstation_names\u001b[0m \u001b[0;34m=\u001b[0m \u001b[0mos\u001b[0m\u001b[0;34m.\u001b[0m\u001b[0mlistdir\u001b[0m\u001b[0;34m(\u001b[0m\u001b[0mworkspace\u001b[0m\u001b[0;34m)\u001b[0m\u001b[0;34m\u001b[0m\u001b[0m\n\u001b[0m\u001b[1;32m     10\u001b[0m \u001b[0mstation_names\u001b[0m \u001b[0;34m=\u001b[0m \u001b[0;34m[\u001b[0m\u001b[0mitem\u001b[0m\u001b[0;34m.\u001b[0m\u001b[0mreplace\u001b[0m\u001b[0;34m(\u001b[0m\u001b[0;34m'.csv'\u001b[0m\u001b[0;34m,\u001b[0m \u001b[0;34m''\u001b[0m\u001b[0;34m)\u001b[0m \u001b[0;32mfor\u001b[0m \u001b[0mitem\u001b[0m \u001b[0;32min\u001b[0m \u001b[0mstation_names\u001b[0m \u001b[0;32mif\u001b[0m \u001b[0mitem\u001b[0m\u001b[0;34m.\u001b[0m\u001b[0mstartswith\u001b[0m\u001b[0;34m(\u001b[0m\u001b[0;34m\"US\"\u001b[0m\u001b[0;34m)\u001b[0m\u001b[0;34m]\u001b[0m\u001b[0;34m\u001b[0m\u001b[0m\n\u001b[1;32m     11\u001b[0m \u001b[0;34m\u001b[0m\u001b[0m\n",
      "\u001b[0;31mFileNotFoundError\u001b[0m: [Errno 2] No such file or directory: '../data/precip/NCDC/output_stations'"
     ]
    }
   ],
   "source": [
    "workspace = os.path.join(\"..\", \"data\", \"precip\", \"NCDC\", \"output_stations\")\n",
    "stations = []\n",
    "\n",
    "for file in glob.glob(os.path.join(\"..\", \"data\", 'precip', 'NCDC', 'output_stations', \"*.csv\")):\n",
    "    df=pd.read_csv(file)\n",
    "    if df['DATE'][0].startswith(\"2018\"):\n",
    "        os.remove(file) \n",
    "\n",
    "station_names = os.listdir(workspace)\n",
    "station_names = [item.replace('.csv', '') for item in station_names if item.startswith(\"US\")]\n",
    "\n",
    "for station in station_names:\n",
    "    stations.append(station)"
   ]
  },
  {
   "cell_type": "code",
   "execution_count": null,
   "metadata": {},
   "outputs": [],
   "source": [
    "comal = pd.read_csv(os.path.join(\"..\", \"data\", \"streamflow\", \"ComalRv_Spgfl.csv\"))\n",
    "comal.set_index(pd.to_datetime(comal['datetime']), inplace=True)\n",
    "comal.head()"
   ]
  },
  {
   "cell_type": "code",
   "execution_count": null,
   "metadata": {},
   "outputs": [],
   "source": [
    "df = pd.read_csv(os.path.join(\"..\", \"data\", \"precip\", \"NCDC\", \"output_stations\", \"USC00417787.csv\"))\n",
    "df.set_index(pd.to_datetime(df['DATE']), inplace=True)\n",
    "df.head()"
   ]
  },
  {
   "cell_type": "code",
   "execution_count": null,
   "metadata": {
    "scrolled": true
   },
   "outputs": [],
   "source": [
    "df = df[~(df == 0).any(axis=1)]\n",
    "df.head()"
   ]
  },
  {
   "cell_type": "code",
   "execution_count": null,
   "metadata": {},
   "outputs": [],
   "source": [
    "# df = df.merge(comal, left_index=True, right_index=True)\n",
    "# df.head()"
   ]
  },
  {
   "cell_type": "code",
   "execution_count": null,
   "metadata": {},
   "outputs": [],
   "source": [
    "# df = df.shift(3)\n",
    "# corr_coeff_prcp = df['PRCP'].corr(comal['Comal Springflow'])\n",
    "# print(corr_coeff_prcp)"
   ]
  },
  {
   "cell_type": "code",
   "execution_count": null,
   "metadata": {
    "scrolled": true
   },
   "outputs": [],
   "source": [
    "years = YearLocator()  \n",
    "yearsFmt = DateFormatter('%Y')\n",
    "\n",
    "fig, ax = plt.subplots()\n",
    "\n",
    "ax.xaxis.set_major_locator(years)\n",
    "ax.xaxis.set_major_formatter(yearsFmt)\n",
    "ax.autoscale_view()\n",
    "\n",
    "df['DATE'] = pd.to_datetime(df['DATE'])\n",
    "x = df['DATE']\n",
    "y = df['PRCP']\n",
    "x1 = comal.index\n",
    "y1 = comal['MaxLevel_J17']\n",
    "x2 = comal.index\n",
    "y2 = comal['Comal Springflow']\n",
    "\n",
    "ax2 = ax.twinx()\n",
    "ax2.bar(df.index, df['PRCP'], width=5, facecolor='indianred', label=\"Precipitation\")\n",
    "\n",
    "ax2.set_xlabel(\"Date\")\n",
    "ax2.set_ylabel(\"Precipitation (in)\");\n",
    "# ax2.set_xlabel(\"Date\")\n",
    "\n",
    "ax.plot(x2, y2, label=\"Comal Springs\")\n",
    "ax.set_ylabel(\"Comal Springflow\");\n",
    "ax.set_title(f\"Precip ComSpringflow 0038\")\n",
    "ax.legend()\n",
    "ax.grid()\n",
    "fig.autofmt_xdate()\n",
    "\n",
    "plt.savefig(os.path.join(\"..\", \"img\", \"precip_0038_springflow.png\"))"
   ]
  },
  {
   "cell_type": "code",
   "execution_count": null,
   "metadata": {},
   "outputs": [],
   "source": [
    "# comal = pd.read_csv(os.path.join(\"..\", \"data\", \"streamflow\", \"ComalRv_Spgfl.csv\"))\n",
    "# comal.set_index(pd.to_datetime(comal['datetime']), inplace=True)\n",
    "# comal.head()\n",
    "\n",
    "# stations = ['USC00417787', 'US1TXGS0038', 'US1TXGS0038', 'US1TXGS0018', 'US1TXKR0079', 'US1TXGS0039', \n",
    "#             'US1TXKR0074', 'US1TXGS0039', 'US1TXGS0039', 'US1TXKR0065', 'US1TXGS0039']\n",
    "\n",
    "# comal_stations = ['USC00417787', 'US1TXGS0018', 'US1TXKR0079', 'US1TXGS0039', 'US1TXKR0074']\n",
    "# comal_lags = [0, 260, 70, 4, 80]\n",
    "\n",
    "# j17_stations = ['US1TXGS0038', 'US1TXGS0039', 'US1TXKR0065']\n",
    "# j17_lags = [2, 2, 140]\n",
    "\n",
    "# j27_stations = ['US1TXGS0038', 'US1TXGS0039']\n",
    "# j27_lags = [16, 0]\n",
    "\n",
    "# comsprings_stations = ['US1TXGS0039']\n",
    "# comsprings_lags = [11]\n",
    "\n",
    "\n",
    "\n",
    "comal = pd.read_csv(os.path.join(\"..\", \"data\", \"streamflow\", \"ComalRv_Spgfl.csv\"))\n",
    "comal.set_index(pd.to_datetime(comal['datetime']), inplace=True)\n",
    "comal.head()\n",
    "\n",
    "df = pd.read_csv(os.path.join(\"..\", \"data\", \"precip\", \"NCDC\", \"output_stations\", \"US1TXGS0039.csv\"))\n",
    "df.set_index(pd.to_datetime(df['DATE']), inplace=True)\n",
    "df = df.shift(11)\n",
    "years = YearLocator()  \n",
    "yearsFmt = DateFormatter('%Y')\n",
    "fig, ax = plt.subplots()\n",
    "\n",
    "ax.xaxis.set_major_locator(years)\n",
    "ax.xaxis.set_major_formatter(yearsFmt)\n",
    "ax.autoscale_view()\n",
    "df['DATE'] = pd.to_datetime(df['DATE'])\n",
    "\n",
    "x = df['DATE']\n",
    "y = df['PRCP']\n",
    "x1 = comal.index\n",
    "y1 = comal['Comal Springflow']\n",
    "\n",
    "ax2 = ax.twinx()\n",
    "ax2.bar(df.index, df['PRCP'], width=5, facecolor='indianred', label=\"Precipitation\")\n",
    "ax2.set_xlabel(\"Date\")\n",
    "ax2.set_ylabel(\"Precipitation (in)\");\n",
    "\n",
    "ax.plot(x1, y1, label=\"Comal Springflow\")\n",
    "ax.set_ylabel(\"Comal Springflow Discharge (cfs)\");\n",
    "ax.set_title(\"Comal Springflow and US1TXGS0039 Precipitation\")\n",
    "ax.legend(loc=\"upper left\")\n",
    "ax2.legend(loc=\"upper right\")\n",
    "ax.grid()\n",
    "fig.autofmt_xdate()\n",
    "plt.savefig(os.path.join(\"..\", \"img\", f\"precip_US1TXGS0039_springfl.png\"))"
   ]
  },
  {
   "cell_type": "code",
   "execution_count": null,
   "metadata": {
    "scrolled": false
   },
   "outputs": [],
   "source": [
    "comal = pd.read_csv(os.path.join(\"..\", \"data\", \"streamflow\", \"ComalRv_Spgfl.csv\"))\n",
    "comal.set_index(pd.to_datetime(comal['datetime']), inplace=True)\n",
    "comal.head()\n",
    "\n",
    "precip_corrs = []\n",
    "precip_stations = []\n",
    "precip_lags = []\n",
    "match = []\n",
    "\n",
    "for station in stations:\n",
    "    \n",
    "    df = pd.read_csv(os.path.join(\"..\", \"data\", \"precip\", \"NCDC\", \"output_stations\", station+\".csv\"))\n",
    "    df.set_index(pd.to_datetime(df['DATE']), inplace=True)\n",
    "    \n",
    "    years = YearLocator()  \n",
    "    yearsFmt = DateFormatter('%Y')\n",
    "#     fig, ax = plt.subplots()\n",
    "\n",
    "#     ax.xaxis.set_major_locator(years)\n",
    "#     ax.xaxis.set_major_formatter(yearsFmt)\n",
    "#     ax.autoscale_view()\n",
    "\n",
    "#     df['DATE'] = pd.to_datetime(df['DATE'])\n",
    "#     x = df['DATE']\n",
    "#     y = df['PRCP']\n",
    "#     x1 = comal.index\n",
    "#     y1 = comal['MaxLevel_J17']\n",
    "#     x2 = comal.index\n",
    "#     y2 = comal['Comal River']\n",
    "#     y3 = comal['springflow']\n",
    "\n",
    "#     ax2 = ax.twinx()\n",
    "#     ax2.bar(df.index, df['PRCP'], width=5, facecolor='indianred', label=\"Precipitation\")\n",
    "#     ax2.set_xlabel(\"Date\")\n",
    "#     ax2.set_ylabel(\"Precipitation (in)\");\n",
    "\n",
    "#     ax.plot(x2, y3, label=\"Comal Springs\")\n",
    "#     ax.set_ylabel(\"Comal Springs\");\n",
    "#     ax.set_title(f\"Comal Springs - Precip {station}\")\n",
    "#     ax.legend()\n",
    "#     ax.grid()\n",
    "#     fig.autofmt_xdate()\n",
    "#     plt.savefig(os.path.join(\"..\", \"img\", f\"precip_{station}_springflow.png\"))\n",
    "    \n",
    "    days = [0, 1, 2, 3, 4, 5, 6, 7, 8, 9, 10, 11, 12, 14, 16, 18, \n",
    "            20, 22, 24, 26, 28, 30, 32, 34, 36, 38, 40, 42, 44, 46, \n",
    "            48, 50, 52, 54, 56, 58, 60, 70, 80, 90, 100, 120, 140, \n",
    "            160, 180, 200, 220, 240, 260, 280, 300]\n",
    "    \n",
    "    for day in days:\n",
    "        df = df.shift(day)\n",
    "        corr_coeff_J17 = df['PRCP'].corr(comal['MaxLevel_J17'])\n",
    "        corr_coeff_J27 = df['PRCP'].corr(comal['MaxLevel_J27'])\n",
    "        corr_coeff_ComRv = df['PRCP'].corr(comal['Comal River'])\n",
    "#         corr_coeff_ComRvnc = df['PRCP'].corr(comal['Comal Rv (nc)'])\n",
    "#         corr_coeff_ComRvoc = df['PRCP'].corr(comal['Comal Rv (oc)'])\n",
    "        corr_coeff_springflow = df['PRCP'].corr(comal['Comal Springflow'])\n",
    "        \n",
    "        if corr_coeff_J17 >= 0.2:\n",
    "            precip_corrs.append(corr_coeff_J17)\n",
    "            precip_lags.append(day)\n",
    "            precip_stations.append(station)\n",
    "            match.append(\"J17\")\n",
    "            print(f\"J17 {day},\", corr_coeff_J17, station)\n",
    "        elif corr_coeff_J27 >= 0.2:\n",
    "            precip_corrs.append(corr_coeff_J27)\n",
    "            precip_lags.append(day)\n",
    "            precip_stations.append(station)\n",
    "            match.append(\"J27\")\n",
    "            print(f\"J27 {day},\", corr_coeff_J27, station)\n",
    "        elif corr_coeff_ComRv >= 0.2:\n",
    "            precip_corrs.append(corr_coeff_ComRv)\n",
    "            precip_lags.append(day)\n",
    "            precip_stations.append(station)\n",
    "            match.append(\"Comal River\")\n",
    "            print(f\"ComRv {day},\", corr_coeff_ComRv, station)\n",
    "            \n",
    "#         elif corr_coeff_ComRvnc >= 0.2:\n",
    "#             print(f\"ComRv (nc) {day},\", corr_coeff_ComRvnc, station)\n",
    "#         elif corr_coeff_ComRvoc >= 0.2:\n",
    "#             print(f\"ComRv (oc) {day},\", corr_coeff_ComRvoc, station)\n",
    "\n",
    "        elif corr_coeff_springflow >= 0.2:\n",
    "            precip_corrs.append(corr_coeff_springflow)\n",
    "            precip_lags.append(day)\n",
    "            precip_stations.append(station)\n",
    "            match.append(\"Comal Springs\")\n",
    "            print(f\"ComSpring {day},\", corr_coeff_springflow, station)"
   ]
  },
  {
   "cell_type": "code",
   "execution_count": null,
   "metadata": {},
   "outputs": [],
   "source": [
    "precip_lags, precip_corrs, precip_stations, match\n",
    "print(len(precip_lags), len(precip_corrs), len(precip_stations), len(match))"
   ]
  },
  {
   "cell_type": "code",
   "execution_count": null,
   "metadata": {},
   "outputs": [],
   "source": [
    "df = pd.DataFrame(\n",
    "    {'Station': precip_stations,\n",
    "     'Parameter': match,\n",
    "     'Time Lag (days)': precip_lags,\n",
    "     'Corr Coeff': precip_corrs    \n",
    "    })\n",
    "df.sort_values('Corr Coeff', inplace=True, ascending=False)\n",
    "print(df)\n",
    "df.to_csv(os.path.join(\"..\", \"data\", \"streamflow\", \"precip_correlations.csv\"))\n"
   ]
  }
 ],
 "metadata": {
  "kernelspec": {
   "display_name": "Python 3",
   "language": "python",
   "name": "python3"
  },
  "language_info": {
   "codemirror_mode": {
    "name": "ipython",
    "version": 3
   },
   "file_extension": ".py",
   "mimetype": "text/x-python",
   "name": "python",
   "nbconvert_exporter": "python",
   "pygments_lexer": "ipython3",
   "version": "3.7.0"
  }
 },
 "nbformat": 4,
 "nbformat_minor": 2
}
